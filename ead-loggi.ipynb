{
 "cells": [
  {
   "cell_type": "markdown",
   "id": "88917eb4",
   "metadata": {
    "id": "QRcqbpLpFK5o",
    "papermill": {
     "duration": 0.012596,
     "end_time": "2022-12-01T11:30:35.723239",
     "exception": false,
     "start_time": "2022-12-01T11:30:35.710643",
     "status": "completed"
    },
    "tags": []
   },
   "source": [
    "# **Análise Exploratória de Dados de Logística**"
   ]
  },
  {
   "cell_type": "markdown",
   "id": "5e0c71f8",
   "metadata": {
    "id": "6-CvdKwqFPiW",
    "papermill": {
     "duration": 0.013268,
     "end_time": "2022-12-01T11:30:35.747912",
     "exception": false,
     "start_time": "2022-12-01T11:30:35.734644",
     "status": "completed"
    },
    "tags": []
   },
   "source": [
    "## 1\\. Contexto"
   ]
  },
  {
   "cell_type": "markdown",
   "id": "e1519cf1",
   "metadata": {
    "id": "J9Ub3ylW5fz9",
    "papermill": {
     "duration": 0.010892,
     "end_time": "2022-12-01T11:30:35.770353",
     "exception": false,
     "start_time": "2022-12-01T11:30:35.759461",
     "status": "completed"
    },
    "tags": []
   },
   "source": [
    "**1.1.  Loggi**"
   ]
  },
  {
   "cell_type": "markdown",
   "id": "c7dce7e5",
   "metadata": {
    "id": "XRURE1uUFXGw",
    "papermill": {
     "duration": 0.013938,
     "end_time": "2022-12-01T11:30:35.797463",
     "exception": false,
     "start_time": "2022-12-01T11:30:35.783525",
     "status": "completed"
    },
    "tags": []
   },
   "source": [
    "A [Loggi](https://www.loggi.com/) é uma startup unicórnio brasileira de tecnologia focada em **logística**. A Loggi começou entregando apenas documentos entre 2013 e 2014. Dois anos depois, entrou no segmento de e-commerce. E, desde 2017, tem atuado nas entregas de alimentos também.\n",
    "\n",
    "![image.png](data:image/png;base64,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)\n"
   ]
  },
  {
   "cell_type": "markdown",
   "id": "cbca9e06",
   "metadata": {
    "id": "uVuZpKF85f0B",
    "papermill": {
     "duration": 0.011015,
     "end_time": "2022-12-01T11:30:35.820109",
     "exception": false,
     "start_time": "2022-12-01T11:30:35.809094",
     "status": "completed"
    },
    "tags": []
   },
   "source": [
    "**1.2.  Loggi BUD**"
   ]
  },
  {
   "cell_type": "markdown",
   "id": "1312b8cb",
   "metadata": {
    "id": "4af3X3AU5f0C",
    "papermill": {
     "duration": 0.010879,
     "end_time": "2022-12-01T11:30:35.842224",
     "exception": false,
     "start_time": "2022-12-01T11:30:35.831345",
     "status": "completed"
    },
    "tags": []
   },
   "source": [
    "O Loggi Benchmark for Urban Deliveries (BUD) é um repositório do GitHub ([link](https://github.com/loggi/loggibud)) com dados e códigos para problemas típicos que empresas de logística enfrentam: otimização das rotas de entrega, alocação de entregas nos veículos da frota com capacidade limitada, etc. Os dados são sintetizados de fontes públicas (IBGE, IPEA, etc.) e são representativos dos desafios que a startup enfrenta no dia a dia, especialmente com relação a sua escala.\n"
   ]
  },
  {
   "cell_type": "markdown",
   "id": "2a515bca",
   "metadata": {
    "id": "kV8QCuCu5f0b",
    "papermill": {
     "duration": 0.010737,
     "end_time": "2022-12-01T11:30:35.864130",
     "exception": false,
     "start_time": "2022-12-01T11:30:35.853393",
     "status": "completed"
    },
    "tags": []
   },
   "source": [
    "## 2\\. Pacotes e bibliotecas"
   ]
  },
  {
   "cell_type": "code",
   "execution_count": 1,
   "id": "14615fcc",
   "metadata": {
    "_kg_hide-input": true,
    "execution": {
     "iopub.execute_input": "2022-12-01T11:30:35.889210Z",
     "iopub.status.busy": "2022-12-01T11:30:35.888174Z",
     "iopub.status.idle": "2022-12-01T11:30:37.721750Z",
     "shell.execute_reply": "2022-12-01T11:30:37.720379Z"
    },
    "id": "VXUEW0VrF7XW",
    "papermill": {
     "duration": 1.849449,
     "end_time": "2022-12-01T11:30:37.724747",
     "exception": false,
     "start_time": "2022-12-01T11:30:35.875298",
     "status": "completed"
    },
    "tags": []
   },
   "outputs": [
    {
     "name": "stderr",
     "output_type": "stream",
     "text": [
      "/opt/conda/lib/python3.7/site-packages/geopandas/_compat.py:115: UserWarning: The Shapely GEOS version (3.9.1-CAPI-1.14.2) is incompatible with the GEOS version PyGEOS was compiled with (3.10.3-CAPI-1.16.1). Conversions between both will be slow.\n",
      "  shapely_geos_version, geos_capi_version_string\n"
     ]
    }
   ],
   "source": [
    "import json\n",
    "import numpy as np\n",
    "import pandas as pd\n",
    "import geopy\n",
    "from geopy.geocoders import Nominatim\n",
    "from geopy.extra.rate_limiter import RateLimiter\n",
    "import geopandas\n",
    "import matplotlib.pyplot as plt\n",
    "import seaborn as sns"
   ]
  },
  {
   "cell_type": "code",
   "execution_count": 2,
   "id": "ba84a034",
   "metadata": {
    "_kg_hide-input": true,
    "execution": {
     "iopub.execute_input": "2022-12-01T11:30:37.751149Z",
     "iopub.status.busy": "2022-12-01T11:30:37.749937Z",
     "iopub.status.idle": "2022-12-01T11:30:51.205808Z",
     "shell.execute_reply": "2022-12-01T11:30:51.204744Z"
    },
    "papermill": {
     "duration": 13.471824,
     "end_time": "2022-12-01T11:30:51.208623",
     "exception": false,
     "start_time": "2022-12-01T11:30:37.736799",
     "status": "completed"
    },
    "tags": []
   },
   "outputs": [
    {
     "name": "stdout",
     "output_type": "stream",
     "text": [
      "Collecting xlrd\r\n",
      "  Downloading xlrd-2.0.1-py2.py3-none-any.whl (96 kB)\r\n",
      "\u001b[2K     \u001b[90m━━━━━━━━━━━━━━━━━━━━━━━━━━━━━━━━━━━━━━━━\u001b[0m \u001b[32m96.5/96.5 kB\u001b[0m \u001b[31m1.0 MB/s\u001b[0m eta \u001b[36m0:00:00\u001b[0m\r\n",
      "\u001b[?25hInstalling collected packages: xlrd\r\n",
      "Successfully installed xlrd-2.0.1\r\n",
      "\u001b[33mWARNING: Running pip as the 'root' user can result in broken permissions and conflicting behaviour with the system package manager. It is recommended to use a virtual environment instead: https://pip.pypa.io/warnings/venv\u001b[0m\u001b[33m\r\n",
      "\u001b[0m"
     ]
    }
   ],
   "source": [
    "!pip install xlrd\n"
   ]
  },
  {
   "cell_type": "markdown",
   "id": "2478969b",
   "metadata": {
    "id": "irQxHW1zGkdZ",
    "papermill": {
     "duration": 0.011505,
     "end_time": "2022-12-01T11:30:51.232050",
     "exception": false,
     "start_time": "2022-12-01T11:30:51.220545",
     "status": "completed"
    },
    "tags": []
   },
   "source": [
    "## 3\\. Exploração de dados"
   ]
  },
  {
   "cell_type": "markdown",
   "id": "b407ce82",
   "metadata": {
    "id": "JJwJP0u05f0c",
    "papermill": {
     "duration": 0.011726,
     "end_time": "2022-12-01T11:30:51.255564",
     "exception": false,
     "start_time": "2022-12-01T11:30:51.243838",
     "status": "completed"
    },
    "tags": []
   },
   "source": [
    "**3.1.  Estrutura dos dados**"
   ]
  },
  {
   "cell_type": "markdown",
   "id": "962a79cf",
   "metadata": {
    "id": "9dmMYcQp5f0c",
    "papermill": {
     "duration": 0.011353,
     "end_time": "2022-12-01T11:30:51.278781",
     "exception": false,
     "start_time": "2022-12-01T11:30:51.267428",
     "status": "completed"
    },
    "tags": []
   },
   "source": [
    "**Dados utilizados**"
   ]
  },
  {
   "cell_type": "code",
   "execution_count": 3,
   "id": "45d24a7e",
   "metadata": {
    "_kg_hide-input": true,
    "collapsed": false,
    "execution": {
     "iopub.execute_input": "2022-12-01T11:30:51.305241Z",
     "iopub.status.busy": "2022-12-01T11:30:51.304823Z",
     "iopub.status.idle": "2022-12-01T11:31:02.882270Z",
     "shell.execute_reply": "2022-12-01T11:31:02.880607Z"
    },
    "id": "7Fxw77295f0c",
    "jupyter": {
     "outputs_hidden": false
    },
    "papermill": {
     "duration": 11.594207,
     "end_time": "2022-12-01T11:31:02.885336",
     "exception": false,
     "start_time": "2022-12-01T11:30:51.291129",
     "status": "completed"
    },
    "tags": []
   },
   "outputs": [],
   "source": [
    "#todos os dados usados\n",
    "!wget -q \"https://raw.githubusercontent.com/andre-marcos-perez/ebac-course-utils/main/dataset/deliveries.json\" -O deliveries.json\n",
    "!wget -q \"https://raw.githubusercontent.com/lucas-furlanette/ebac-dados/main/projetos/deliveries-geodata.csv\" -O deliveries-geodata.csv\n",
    "!wget -q \"https://raw.githubusercontent.com/lucas-furlanette/ebac-dados/main/projetos/distrito-federal.shp\" -O distrito-federal.shp\n",
    "!wget -q \"https://raw.githubusercontent.com/lucas-furlanette/ebac-dados/main/projetos/distrito-federal.shx\" -O distrito-federal.shx\n",
    "!wget -q \"https://raw.githubusercontent.com/lucas-furlanette/ebac-dados/main/projetos/DF.xls\" -O DF.xls"
   ]
  },
  {
   "cell_type": "markdown",
   "id": "78743893",
   "metadata": {
    "id": "g1tFuKR35f0c",
    "papermill": {
     "duration": 0.011904,
     "end_time": "2022-12-01T11:31:02.909489",
     "exception": false,
     "start_time": "2022-12-01T11:31:02.897585",
     "status": "completed"
    },
    "tags": []
   },
   "source": [
    "> **Atenção**: Vamos trabalhar com um sub conjunto dos dados originais presentes neste [link](https://github.com/loggi/loggibud/blob/master/docs/quickstart.md). Em especial, as instâncias de treino de `cvrp` da cidade de Brasília.\n",
    "\n",
    "O dado bruto é um arquivo do tipo `JSON` com uma lista de instâncias de entregas [link](https://github.com/andre-marcos-perez/ebac-course-utils/blob/main/dataset/deliveries.json). Cada instância representa um conjunto de **entregas** que devem ser realizadas pelos **veículos** do **hub** regional. Exemplo:\n"
   ]
  },
  {
   "cell_type": "markdown",
   "id": "6df034ce",
   "metadata": {
    "id": "lQuYQMd55f0d",
    "papermill": {
     "duration": 0.011494,
     "end_time": "2022-12-01T11:31:02.932917",
     "exception": false,
     "start_time": "2022-12-01T11:31:02.921423",
     "status": "completed"
    },
    "tags": []
   },
   "source": [
    "```json\n",
    "[\n",
    "  {\n",
    "    \"name\": \"cvrp-0-df-0\",\n",
    "    \"region\": \"df-0\",\n",
    "    \"origin\": {\"lng\": -47.802664728268745, \"lat\": -15.657013854445248},\n",
    "    \"vehicle_capacity\": 180,\n",
    "    \"deliveries\": [\n",
    "      {\n",
    "        \"id\": \"ed0993f8cc70d998342f38ee827176dc\",\n",
    "        \"point\": {\"lng\": -47.7496622016347, \"lat\": -15.65879313293694},\n",
    "        \"size\": 10\n",
    "      },\n",
    "      {\n",
    "        \"id\": \"c7220154adc7a3def8f0b2b8a42677a9\",\n",
    "        \"point\": {\"lng\": -47.75887552060412, \"lat\": -15.651440380492554},\n",
    "        \"size\": 10\n",
    "      },\n",
    "      ...\n",
    "    ]\n",
    "  }\n",
    "]\n",
    "...\n"
   ]
  },
  {
   "cell_type": "markdown",
   "id": "90c6c53e",
   "metadata": {
    "id": "ori15Spk5f0d",
    "papermill": {
     "duration": 0.012122,
     "end_time": "2022-12-01T11:31:02.957060",
     "exception": false,
     "start_time": "2022-12-01T11:31:02.944938",
     "status": "completed"
    },
    "tags": []
   },
   "source": [
    "Onde:\n",
    "\n",
    " - **name**: nome único da instância;\n",
    " - **region**: nome único da região do **hub**;\n",
    " - **origin**: latitude e longitude da região do **hub**;\n",
    " - **vehicle_capacity**: soma da capacidade de carga dos **veículos** do **hub**;\n",
    " - **deliveries**: **entregas** que devem ser realizadas.\n",
    " \n",
    "\n",
    "Sendo que:\n",
    "\n",
    " - **id**: id único da **entrega**;\n",
    " - **point**: latitude e longitude da **entrega**;\n",
    " - **size**: tamanho ou a carga que a **entrega** ocupa no **veículo**."
   ]
  },
  {
   "cell_type": "markdown",
   "id": "95377ff2",
   "metadata": {
    "id": "P82d5bw85f0d",
    "papermill": {
     "duration": 0.012359,
     "end_time": "2022-12-01T11:31:02.981991",
     "exception": false,
     "start_time": "2022-12-01T11:31:02.969632",
     "status": "completed"
    },
    "tags": []
   },
   "source": [
    "**3.2 Wrangling**"
   ]
  },
  {
   "cell_type": "code",
   "execution_count": 4,
   "id": "82ff0833",
   "metadata": {
    "_kg_hide-input": true,
    "collapsed": false,
    "execution": {
     "iopub.execute_input": "2022-12-01T11:31:03.008529Z",
     "iopub.status.busy": "2022-12-01T11:31:03.007275Z",
     "iopub.status.idle": "2022-12-01T11:31:05.955464Z",
     "shell.execute_reply": "2022-12-01T11:31:05.954502Z"
    },
    "id": "2-AkgdPv5f0d",
    "jupyter": {
     "outputs_hidden": false
    },
    "outputId": "9c4cf39a-1d8c-4b28-c23d-4fcb09d683b5",
    "papermill": {
     "duration": 2.964204,
     "end_time": "2022-12-01T11:31:05.958053",
     "exception": false,
     "start_time": "2022-12-01T11:31:02.993849",
     "status": "completed"
    },
    "tags": []
   },
   "outputs": [
    {
     "data": {
      "text/html": [
       "<div>\n",
       "<style scoped>\n",
       "    .dataframe tbody tr th:only-of-type {\n",
       "        vertical-align: middle;\n",
       "    }\n",
       "\n",
       "    .dataframe tbody tr th {\n",
       "        vertical-align: top;\n",
       "    }\n",
       "\n",
       "    .dataframe thead th {\n",
       "        text-align: right;\n",
       "    }\n",
       "</style>\n",
       "<table border=\"1\" class=\"dataframe\">\n",
       "  <thead>\n",
       "    <tr style=\"text-align: right;\">\n",
       "      <th></th>\n",
       "      <th>name</th>\n",
       "      <th>region</th>\n",
       "      <th>origin</th>\n",
       "      <th>vehicle_capacity</th>\n",
       "      <th>deliveries</th>\n",
       "    </tr>\n",
       "  </thead>\n",
       "  <tbody>\n",
       "    <tr>\n",
       "      <th>0</th>\n",
       "      <td>cvrp-2-df-33</td>\n",
       "      <td>df-2</td>\n",
       "      <td>{'lng': -48.05498915846707, 'lat': -15.8381445...</td>\n",
       "      <td>180</td>\n",
       "      <td>[{'id': '313483a19d2f8d65cd5024c8d215cfbd', 'p...</td>\n",
       "    </tr>\n",
       "    <tr>\n",
       "      <th>1</th>\n",
       "      <td>cvrp-2-df-73</td>\n",
       "      <td>df-2</td>\n",
       "      <td>{'lng': -48.05498915846707, 'lat': -15.8381445...</td>\n",
       "      <td>180</td>\n",
       "      <td>[{'id': 'bf3fc630b1c29601a4caf1bdd474b85', 'po...</td>\n",
       "    </tr>\n",
       "    <tr>\n",
       "      <th>2</th>\n",
       "      <td>cvrp-2-df-20</td>\n",
       "      <td>df-2</td>\n",
       "      <td>{'lng': -48.05498915846707, 'lat': -15.8381445...</td>\n",
       "      <td>180</td>\n",
       "      <td>[{'id': 'b30f1145a2ba4e0b9ac0162b68d045c3', 'p...</td>\n",
       "    </tr>\n",
       "    <tr>\n",
       "      <th>3</th>\n",
       "      <td>cvrp-1-df-71</td>\n",
       "      <td>df-1</td>\n",
       "      <td>{'lng': -47.89366206897872, 'lat': -15.8051175...</td>\n",
       "      <td>180</td>\n",
       "      <td>[{'id': 'be3ed547394196c12c7c27c89ac74ed6', 'p...</td>\n",
       "    </tr>\n",
       "    <tr>\n",
       "      <th>4</th>\n",
       "      <td>cvrp-2-df-87</td>\n",
       "      <td>df-2</td>\n",
       "      <td>{'lng': -48.05498915846707, 'lat': -15.8381445...</td>\n",
       "      <td>180</td>\n",
       "      <td>[{'id': 'a6328fb4dc0654eb28a996a270b0f6e4', 'p...</td>\n",
       "    </tr>\n",
       "  </tbody>\n",
       "</table>\n",
       "</div>"
      ],
      "text/plain": [
       "           name region                                             origin  \\\n",
       "0  cvrp-2-df-33   df-2  {'lng': -48.05498915846707, 'lat': -15.8381445...   \n",
       "1  cvrp-2-df-73   df-2  {'lng': -48.05498915846707, 'lat': -15.8381445...   \n",
       "2  cvrp-2-df-20   df-2  {'lng': -48.05498915846707, 'lat': -15.8381445...   \n",
       "3  cvrp-1-df-71   df-1  {'lng': -47.89366206897872, 'lat': -15.8051175...   \n",
       "4  cvrp-2-df-87   df-2  {'lng': -48.05498915846707, 'lat': -15.8381445...   \n",
       "\n",
       "   vehicle_capacity                                         deliveries  \n",
       "0               180  [{'id': '313483a19d2f8d65cd5024c8d215cfbd', 'p...  \n",
       "1               180  [{'id': 'bf3fc630b1c29601a4caf1bdd474b85', 'po...  \n",
       "2               180  [{'id': 'b30f1145a2ba4e0b9ac0162b68d045c3', 'p...  \n",
       "3               180  [{'id': 'be3ed547394196c12c7c27c89ac74ed6', 'p...  \n",
       "4               180  [{'id': 'a6328fb4dc0654eb28a996a270b0f6e4', 'p...  "
      ]
     },
     "execution_count": 4,
     "metadata": {},
     "output_type": "execute_result"
    }
   ],
   "source": [
    "with open('deliveries.json', mode='r', encoding='utf8') as file:\n",
    "  data = json.load(file)\n",
    "\n",
    "deliveries_df = pd.DataFrame(data)\n",
    "\n",
    "deliveries_df.head()"
   ]
  },
  {
   "cell_type": "markdown",
   "id": "f6de6fe4",
   "metadata": {
    "id": "kSkbnOKK5f0d",
    "papermill": {
     "duration": 0.011793,
     "end_time": "2022-12-01T11:31:05.982553",
     "exception": false,
     "start_time": "2022-12-01T11:31:05.970760",
     "status": "completed"
    },
    "tags": []
   },
   "source": [
    "Tratamento da coluna origin, transformadas em duas novas colunas(hub_lng e hub_lat)."
   ]
  },
  {
   "cell_type": "code",
   "execution_count": 5,
   "id": "cab95581",
   "metadata": {
    "_kg_hide-input": true,
    "collapsed": false,
    "execution": {
     "iopub.execute_input": "2022-12-01T11:31:06.009280Z",
     "iopub.status.busy": "2022-12-01T11:31:06.008090Z",
     "iopub.status.idle": "2022-12-01T11:31:06.324561Z",
     "shell.execute_reply": "2022-12-01T11:31:06.323395Z"
    },
    "id": "XDUfPNCj5f0e",
    "jupyter": {
     "outputs_hidden": false
    },
    "outputId": "81746383-64ff-4682-a4ce-170a41c2d77b",
    "papermill": {
     "duration": 0.332347,
     "end_time": "2022-12-01T11:31:06.327047",
     "exception": false,
     "start_time": "2022-12-01T11:31:05.994700",
     "status": "completed"
    },
    "tags": []
   },
   "outputs": [
    {
     "data": {
      "text/html": [
       "<div>\n",
       "<style scoped>\n",
       "    .dataframe tbody tr th:only-of-type {\n",
       "        vertical-align: middle;\n",
       "    }\n",
       "\n",
       "    .dataframe tbody tr th {\n",
       "        vertical-align: top;\n",
       "    }\n",
       "\n",
       "    .dataframe thead th {\n",
       "        text-align: right;\n",
       "    }\n",
       "</style>\n",
       "<table border=\"1\" class=\"dataframe\">\n",
       "  <thead>\n",
       "    <tr style=\"text-align: right;\">\n",
       "      <th></th>\n",
       "      <th>name</th>\n",
       "      <th>region</th>\n",
       "      <th>hub_lng</th>\n",
       "      <th>hub_lat</th>\n",
       "      <th>vehicle_capacity</th>\n",
       "      <th>deliveries</th>\n",
       "    </tr>\n",
       "  </thead>\n",
       "  <tbody>\n",
       "    <tr>\n",
       "      <th>0</th>\n",
       "      <td>cvrp-2-df-33</td>\n",
       "      <td>df-2</td>\n",
       "      <td>-48.054989</td>\n",
       "      <td>-15.838145</td>\n",
       "      <td>180</td>\n",
       "      <td>[{'id': '313483a19d2f8d65cd5024c8d215cfbd', 'p...</td>\n",
       "    </tr>\n",
       "    <tr>\n",
       "      <th>1</th>\n",
       "      <td>cvrp-2-df-73</td>\n",
       "      <td>df-2</td>\n",
       "      <td>-48.054989</td>\n",
       "      <td>-15.838145</td>\n",
       "      <td>180</td>\n",
       "      <td>[{'id': 'bf3fc630b1c29601a4caf1bdd474b85', 'po...</td>\n",
       "    </tr>\n",
       "    <tr>\n",
       "      <th>2</th>\n",
       "      <td>cvrp-2-df-20</td>\n",
       "      <td>df-2</td>\n",
       "      <td>-48.054989</td>\n",
       "      <td>-15.838145</td>\n",
       "      <td>180</td>\n",
       "      <td>[{'id': 'b30f1145a2ba4e0b9ac0162b68d045c3', 'p...</td>\n",
       "    </tr>\n",
       "    <tr>\n",
       "      <th>3</th>\n",
       "      <td>cvrp-1-df-71</td>\n",
       "      <td>df-1</td>\n",
       "      <td>-47.893662</td>\n",
       "      <td>-15.805118</td>\n",
       "      <td>180</td>\n",
       "      <td>[{'id': 'be3ed547394196c12c7c27c89ac74ed6', 'p...</td>\n",
       "    </tr>\n",
       "    <tr>\n",
       "      <th>4</th>\n",
       "      <td>cvrp-2-df-87</td>\n",
       "      <td>df-2</td>\n",
       "      <td>-48.054989</td>\n",
       "      <td>-15.838145</td>\n",
       "      <td>180</td>\n",
       "      <td>[{'id': 'a6328fb4dc0654eb28a996a270b0f6e4', 'p...</td>\n",
       "    </tr>\n",
       "  </tbody>\n",
       "</table>\n",
       "</div>"
      ],
      "text/plain": [
       "           name region    hub_lng    hub_lat  vehicle_capacity  \\\n",
       "0  cvrp-2-df-33   df-2 -48.054989 -15.838145               180   \n",
       "1  cvrp-2-df-73   df-2 -48.054989 -15.838145               180   \n",
       "2  cvrp-2-df-20   df-2 -48.054989 -15.838145               180   \n",
       "3  cvrp-1-df-71   df-1 -47.893662 -15.805118               180   \n",
       "4  cvrp-2-df-87   df-2 -48.054989 -15.838145               180   \n",
       "\n",
       "                                          deliveries  \n",
       "0  [{'id': '313483a19d2f8d65cd5024c8d215cfbd', 'p...  \n",
       "1  [{'id': 'bf3fc630b1c29601a4caf1bdd474b85', 'po...  \n",
       "2  [{'id': 'b30f1145a2ba4e0b9ac0162b68d045c3', 'p...  \n",
       "3  [{'id': 'be3ed547394196c12c7c27c89ac74ed6', 'p...  \n",
       "4  [{'id': 'a6328fb4dc0654eb28a996a270b0f6e4', 'p...  "
      ]
     },
     "execution_count": 5,
     "metadata": {},
     "output_type": "execute_result"
    }
   ],
   "source": [
    "hub_origin_df = pd.json_normalize(deliveries_df[\"origin\"])\n",
    "\n",
    "deliveries_df = pd.merge(left=deliveries_df, right=hub_origin_df, how='inner', left_index=True, right_index=True)\n",
    "deliveries_df = deliveries_df.drop(\"origin\", axis=1)\n",
    "deliveries_df = deliveries_df[[\"name\", \"region\", \"lng\", \"lat\", \"vehicle_capacity\", \"deliveries\"]]\n",
    "deliveries_df.rename(columns={\"lng\": \"hub_lng\", \"lat\": \"hub_lat\"}, inplace=True)\n",
    "\n",
    "deliveries_df.head()"
   ]
  },
  {
   "cell_type": "markdown",
   "id": "31d22ed9",
   "metadata": {
    "id": "pU7cMySq5f0e",
    "papermill": {
     "duration": 0.011969,
     "end_time": "2022-12-01T11:31:06.351834",
     "exception": false,
     "start_time": "2022-12-01T11:31:06.339865",
     "status": "completed"
    },
    "tags": []
   },
   "source": [
    "Tratamento da coluna deliveries, transformadas em três novas colunas(delivery_size, delivery_lng e delivery_lat)."
   ]
  },
  {
   "cell_type": "code",
   "execution_count": 6,
   "id": "3a0baeb4",
   "metadata": {
    "_kg_hide-input": true,
    "collapsed": false,
    "execution": {
     "iopub.execute_input": "2022-12-01T11:31:06.378863Z",
     "iopub.status.busy": "2022-12-01T11:31:06.377711Z",
     "iopub.status.idle": "2022-12-01T11:31:07.393963Z",
     "shell.execute_reply": "2022-12-01T11:31:07.393001Z"
    },
    "id": "WUBGJCxC5f0e",
    "jupyter": {
     "outputs_hidden": false
    },
    "outputId": "dc14be48-5e18-4d1b-d3ef-cc0f39cde8e4",
    "papermill": {
     "duration": 1.032154,
     "end_time": "2022-12-01T11:31:07.396289",
     "exception": false,
     "start_time": "2022-12-01T11:31:06.364135",
     "status": "completed"
    },
    "tags": []
   },
   "outputs": [
    {
     "data": {
      "text/html": [
       "<div>\n",
       "<style scoped>\n",
       "    .dataframe tbody tr th:only-of-type {\n",
       "        vertical-align: middle;\n",
       "    }\n",
       "\n",
       "    .dataframe tbody tr th {\n",
       "        vertical-align: top;\n",
       "    }\n",
       "\n",
       "    .dataframe thead th {\n",
       "        text-align: right;\n",
       "    }\n",
       "</style>\n",
       "<table border=\"1\" class=\"dataframe\">\n",
       "  <thead>\n",
       "    <tr style=\"text-align: right;\">\n",
       "      <th></th>\n",
       "      <th>name</th>\n",
       "      <th>region</th>\n",
       "      <th>hub_lng</th>\n",
       "      <th>hub_lat</th>\n",
       "      <th>vehicle_capacity</th>\n",
       "      <th>delivery_size</th>\n",
       "      <th>delivery_lng</th>\n",
       "      <th>delivery_lat</th>\n",
       "    </tr>\n",
       "  </thead>\n",
       "  <tbody>\n",
       "    <tr>\n",
       "      <th>0</th>\n",
       "      <td>cvrp-2-df-33</td>\n",
       "      <td>df-2</td>\n",
       "      <td>-48.054989</td>\n",
       "      <td>-15.838145</td>\n",
       "      <td>180</td>\n",
       "      <td>9</td>\n",
       "      <td>-48.116189</td>\n",
       "      <td>-15.848929</td>\n",
       "    </tr>\n",
       "    <tr>\n",
       "      <th>1</th>\n",
       "      <td>cvrp-2-df-33</td>\n",
       "      <td>df-2</td>\n",
       "      <td>-48.054989</td>\n",
       "      <td>-15.838145</td>\n",
       "      <td>180</td>\n",
       "      <td>2</td>\n",
       "      <td>-48.118195</td>\n",
       "      <td>-15.850772</td>\n",
       "    </tr>\n",
       "    <tr>\n",
       "      <th>2</th>\n",
       "      <td>cvrp-2-df-33</td>\n",
       "      <td>df-2</td>\n",
       "      <td>-48.054989</td>\n",
       "      <td>-15.838145</td>\n",
       "      <td>180</td>\n",
       "      <td>1</td>\n",
       "      <td>-48.112483</td>\n",
       "      <td>-15.847871</td>\n",
       "    </tr>\n",
       "    <tr>\n",
       "      <th>3</th>\n",
       "      <td>cvrp-2-df-33</td>\n",
       "      <td>df-2</td>\n",
       "      <td>-48.054989</td>\n",
       "      <td>-15.838145</td>\n",
       "      <td>180</td>\n",
       "      <td>2</td>\n",
       "      <td>-48.118023</td>\n",
       "      <td>-15.846471</td>\n",
       "    </tr>\n",
       "    <tr>\n",
       "      <th>4</th>\n",
       "      <td>cvrp-2-df-33</td>\n",
       "      <td>df-2</td>\n",
       "      <td>-48.054989</td>\n",
       "      <td>-15.838145</td>\n",
       "      <td>180</td>\n",
       "      <td>7</td>\n",
       "      <td>-48.114898</td>\n",
       "      <td>-15.858055</td>\n",
       "    </tr>\n",
       "  </tbody>\n",
       "</table>\n",
       "</div>"
      ],
      "text/plain": [
       "           name region    hub_lng    hub_lat  vehicle_capacity  delivery_size  \\\n",
       "0  cvrp-2-df-33   df-2 -48.054989 -15.838145               180              9   \n",
       "1  cvrp-2-df-33   df-2 -48.054989 -15.838145               180              2   \n",
       "2  cvrp-2-df-33   df-2 -48.054989 -15.838145               180              1   \n",
       "3  cvrp-2-df-33   df-2 -48.054989 -15.838145               180              2   \n",
       "4  cvrp-2-df-33   df-2 -48.054989 -15.838145               180              7   \n",
       "\n",
       "   delivery_lng  delivery_lat  \n",
       "0    -48.116189    -15.848929  \n",
       "1    -48.118195    -15.850772  \n",
       "2    -48.112483    -15.847871  \n",
       "3    -48.118023    -15.846471  \n",
       "4    -48.114898    -15.858055  "
      ]
     },
     "execution_count": 6,
     "metadata": {},
     "output_type": "execute_result"
    }
   ],
   "source": [
    "deliveries_exploded_df = deliveries_df[[\"deliveries\"]].explode(\"deliveries\")\n",
    "\n",
    "deliveries_normalized_df = pd.concat([\n",
    "  pd.DataFrame(deliveries_exploded_df[\"deliveries\"].apply(lambda record: record[\"size\"])).rename(columns={\"deliveries\": \"delivery_size\"}),\n",
    "  pd.DataFrame(deliveries_exploded_df[\"deliveries\"].apply(lambda record: record[\"point\"][\"lng\"])).rename(columns={\"deliveries\": \"delivery_lng\"}),\n",
    "  pd.DataFrame(deliveries_exploded_df[\"deliveries\"].apply(lambda record: record[\"point\"][\"lat\"])).rename(columns={\"deliveries\": \"delivery_lat\"}),\n",
    "], axis= 1)\n",
    "\n",
    "deliveries_df = deliveries_df.drop(\"deliveries\", axis=1)\n",
    "deliveries_df = pd.merge(left=deliveries_df, right=deliveries_normalized_df, how='right', left_index=True, right_index=True)\n",
    "deliveries_df.reset_index(inplace=True, drop=True)\n",
    "\n",
    "deliveries_df.head()"
   ]
  },
  {
   "cell_type": "markdown",
   "id": "4503c74d",
   "metadata": {
    "_kg_hide-input": false,
    "id": "AUEjPkFc5f0e",
    "papermill": {
     "duration": 0.013038,
     "end_time": "2022-12-01T11:31:07.421967",
     "exception": false,
     "start_time": "2022-12-01T11:31:07.408929",
     "status": "completed"
    },
    "tags": []
   },
   "source": [
    "Verificando schema"
   ]
  },
  {
   "cell_type": "code",
   "execution_count": 7,
   "id": "796cf318",
   "metadata": {
    "_kg_hide-input": true,
    "execution": {
     "iopub.execute_input": "2022-12-01T11:31:07.449447Z",
     "iopub.status.busy": "2022-12-01T11:31:07.448619Z",
     "iopub.status.idle": "2022-12-01T11:31:07.457772Z",
     "shell.execute_reply": "2022-12-01T11:31:07.456438Z"
    },
    "id": "lxLj8e0GHAnr",
    "outputId": "a92cafb8-101d-4f31-8989-2eab4ed20beb",
    "papermill": {
     "duration": 0.025786,
     "end_time": "2022-12-01T11:31:07.460496",
     "exception": false,
     "start_time": "2022-12-01T11:31:07.434710",
     "status": "completed"
    },
    "tags": []
   },
   "outputs": [
    {
     "data": {
      "text/plain": [
       "name                 object\n",
       "region               object\n",
       "hub_lng             float64\n",
       "hub_lat             float64\n",
       "vehicle_capacity      int64\n",
       "delivery_size         int64\n",
       "delivery_lng        float64\n",
       "delivery_lat        float64\n",
       "dtype: object"
      ]
     },
     "execution_count": 7,
     "metadata": {},
     "output_type": "execute_result"
    }
   ],
   "source": [
    "deliveries_df.dtypes"
   ]
  },
  {
   "cell_type": "code",
   "execution_count": 8,
   "id": "f042b46e",
   "metadata": {
    "_kg_hide-input": true,
    "collapsed": false,
    "execution": {
     "iopub.execute_input": "2022-12-01T11:31:07.490798Z",
     "iopub.status.busy": "2022-12-01T11:31:07.489485Z",
     "iopub.status.idle": "2022-12-01T11:31:07.670634Z",
     "shell.execute_reply": "2022-12-01T11:31:07.669284Z"
    },
    "id": "pMMWzKhJ5f0e",
    "jupyter": {
     "outputs_hidden": false
    },
    "outputId": "19c4607d-3944-4838-a1a0-f18dd7a5d48d",
    "papermill": {
     "duration": 0.200051,
     "end_time": "2022-12-01T11:31:07.673702",
     "exception": false,
     "start_time": "2022-12-01T11:31:07.473651",
     "status": "completed"
    },
    "tags": []
   },
   "outputs": [
    {
     "data": {
      "text/html": [
       "<div>\n",
       "<style scoped>\n",
       "    .dataframe tbody tr th:only-of-type {\n",
       "        vertical-align: middle;\n",
       "    }\n",
       "\n",
       "    .dataframe tbody tr th {\n",
       "        vertical-align: top;\n",
       "    }\n",
       "\n",
       "    .dataframe thead th {\n",
       "        text-align: right;\n",
       "    }\n",
       "</style>\n",
       "<table border=\"1\" class=\"dataframe\">\n",
       "  <thead>\n",
       "    <tr style=\"text-align: right;\">\n",
       "      <th></th>\n",
       "      <th>count</th>\n",
       "      <th>unique</th>\n",
       "      <th>top</th>\n",
       "      <th>freq</th>\n",
       "    </tr>\n",
       "  </thead>\n",
       "  <tbody>\n",
       "    <tr>\n",
       "      <th>name</th>\n",
       "      <td>636149</td>\n",
       "      <td>199</td>\n",
       "      <td>cvrp-1-df-87</td>\n",
       "      <td>5636</td>\n",
       "    </tr>\n",
       "    <tr>\n",
       "      <th>region</th>\n",
       "      <td>636149</td>\n",
       "      <td>3</td>\n",
       "      <td>df-1</td>\n",
       "      <td>304708</td>\n",
       "    </tr>\n",
       "  </tbody>\n",
       "</table>\n",
       "</div>"
      ],
      "text/plain": [
       "         count unique           top    freq\n",
       "name    636149    199  cvrp-1-df-87    5636\n",
       "region  636149      3          df-1  304708"
      ]
     },
     "execution_count": 8,
     "metadata": {},
     "output_type": "execute_result"
    }
   ],
   "source": [
    "deliveries_df.select_dtypes(\"object\").describe().transpose()"
   ]
  },
  {
   "cell_type": "code",
   "execution_count": 9,
   "id": "586c82b5",
   "metadata": {
    "_kg_hide-input": true,
    "collapsed": false,
    "execution": {
     "iopub.execute_input": "2022-12-01T11:31:07.702222Z",
     "iopub.status.busy": "2022-12-01T11:31:07.701810Z",
     "iopub.status.idle": "2022-12-01T11:31:07.765723Z",
     "shell.execute_reply": "2022-12-01T11:31:07.764322Z"
    },
    "id": "DHtRTt1K5f0f",
    "jupyter": {
     "outputs_hidden": false
    },
    "outputId": "3d35e916-0e0c-4c34-e134-f7eabdd3e9a6",
    "papermill": {
     "duration": 0.081497,
     "end_time": "2022-12-01T11:31:07.768209",
     "exception": false,
     "start_time": "2022-12-01T11:31:07.686712",
     "status": "completed"
    },
    "tags": []
   },
   "outputs": [
    {
     "data": {
      "text/html": [
       "<div>\n",
       "<style scoped>\n",
       "    .dataframe tbody tr th:only-of-type {\n",
       "        vertical-align: middle;\n",
       "    }\n",
       "\n",
       "    .dataframe tbody tr th {\n",
       "        vertical-align: top;\n",
       "    }\n",
       "\n",
       "    .dataframe thead th {\n",
       "        text-align: right;\n",
       "    }\n",
       "</style>\n",
       "<table border=\"1\" class=\"dataframe\">\n",
       "  <thead>\n",
       "    <tr style=\"text-align: right;\">\n",
       "      <th></th>\n",
       "      <th>count</th>\n",
       "      <th>mean</th>\n",
       "      <th>std</th>\n",
       "      <th>min</th>\n",
       "      <th>25%</th>\n",
       "      <th>50%</th>\n",
       "      <th>75%</th>\n",
       "      <th>max</th>\n",
       "    </tr>\n",
       "  </thead>\n",
       "  <tbody>\n",
       "    <tr>\n",
       "      <th>vehicle_capacity</th>\n",
       "      <td>636149.0</td>\n",
       "      <td>180.000000</td>\n",
       "      <td>0.000000</td>\n",
       "      <td>180.0</td>\n",
       "      <td>180.0</td>\n",
       "      <td>180.0</td>\n",
       "      <td>180.0</td>\n",
       "      <td>180.0</td>\n",
       "    </tr>\n",
       "    <tr>\n",
       "      <th>delivery_size</th>\n",
       "      <td>636149.0</td>\n",
       "      <td>5.512111</td>\n",
       "      <td>2.874557</td>\n",
       "      <td>1.0</td>\n",
       "      <td>3.0</td>\n",
       "      <td>6.0</td>\n",
       "      <td>8.0</td>\n",
       "      <td>10.0</td>\n",
       "    </tr>\n",
       "  </tbody>\n",
       "</table>\n",
       "</div>"
      ],
      "text/plain": [
       "                     count        mean       std    min    25%    50%    75%  \\\n",
       "vehicle_capacity  636149.0  180.000000  0.000000  180.0  180.0  180.0  180.0   \n",
       "delivery_size     636149.0    5.512111  2.874557    1.0    3.0    6.0    8.0   \n",
       "\n",
       "                    max  \n",
       "vehicle_capacity  180.0  \n",
       "delivery_size      10.0  "
      ]
     },
     "execution_count": 9,
     "metadata": {},
     "output_type": "execute_result"
    }
   ],
   "source": [
    "deliveries_df.select_dtypes(\"int64\").describe().transpose()"
   ]
  },
  {
   "cell_type": "markdown",
   "id": "8e215f7f",
   "metadata": {
    "id": "98hexQTyJS9I",
    "papermill": {
     "duration": 0.012584,
     "end_time": "2022-12-01T11:31:07.793995",
     "exception": false,
     "start_time": "2022-12-01T11:31:07.781411",
     "status": "completed"
    },
    "tags": []
   },
   "source": [
    "## 4\\. Manipulação"
   ]
  },
  {
   "cell_type": "markdown",
   "id": "6528e460",
   "metadata": {
    "id": "lOlvXrIe5f0f",
    "papermill": {
     "duration": 0.012406,
     "end_time": "2022-12-01T11:31:07.819201",
     "exception": false,
     "start_time": "2022-12-01T11:31:07.806795",
     "status": "completed"
    },
    "tags": []
   },
   "source": [
    "**4.1 Enriquecimento**"
   ]
  },
  {
   "cell_type": "markdown",
   "id": "11c64939",
   "metadata": {
    "id": "V-V-_KYB5f0f",
    "papermill": {
     "duration": 0.012495,
     "end_time": "2022-12-01T11:31:07.844514",
     "exception": false,
     "start_time": "2022-12-01T11:31:07.832019",
     "status": "completed"
    },
    "tags": []
   },
   "source": [
    "Aplicando a geocodificação nas coordenadas dos hub's para extrair informações de cidade e bairro."
   ]
  },
  {
   "cell_type": "code",
   "execution_count": 10,
   "id": "92e1fc80",
   "metadata": {
    "_kg_hide-input": true,
    "collapsed": false,
    "execution": {
     "iopub.execute_input": "2022-12-01T11:31:07.872222Z",
     "iopub.status.busy": "2022-12-01T11:31:07.871828Z",
     "iopub.status.idle": "2022-12-01T11:31:10.330934Z",
     "shell.execute_reply": "2022-12-01T11:31:10.329256Z"
    },
    "id": "0Go9IG2w5f0f",
    "jupyter": {
     "outputs_hidden": false
    },
    "outputId": "02a1bfc3-e405-4db7-f4fc-27337a392937",
    "papermill": {
     "duration": 2.475815,
     "end_time": "2022-12-01T11:31:10.333397",
     "exception": false,
     "start_time": "2022-12-01T11:31:07.857582",
     "status": "completed"
    },
    "tags": []
   },
   "outputs": [
    {
     "data": {
      "text/html": [
       "<div>\n",
       "<style scoped>\n",
       "    .dataframe tbody tr th:only-of-type {\n",
       "        vertical-align: middle;\n",
       "    }\n",
       "\n",
       "    .dataframe tbody tr th {\n",
       "        vertical-align: top;\n",
       "    }\n",
       "\n",
       "    .dataframe thead th {\n",
       "        text-align: right;\n",
       "    }\n",
       "</style>\n",
       "<table border=\"1\" class=\"dataframe\">\n",
       "  <thead>\n",
       "    <tr style=\"text-align: right;\">\n",
       "      <th></th>\n",
       "      <th>name</th>\n",
       "      <th>region</th>\n",
       "      <th>hub_lng</th>\n",
       "      <th>hub_lat</th>\n",
       "      <th>hub_city</th>\n",
       "      <th>hub_suburb</th>\n",
       "      <th>vehicle_capacity</th>\n",
       "      <th>delivery_size</th>\n",
       "      <th>delivery_lng</th>\n",
       "      <th>delivery_lat</th>\n",
       "    </tr>\n",
       "  </thead>\n",
       "  <tbody>\n",
       "    <tr>\n",
       "      <th>0</th>\n",
       "      <td>cvrp-2-df-33</td>\n",
       "      <td>df-2</td>\n",
       "      <td>-48.054989</td>\n",
       "      <td>-15.838145</td>\n",
       "      <td>Taguatinga</td>\n",
       "      <td>Taguatinga</td>\n",
       "      <td>180</td>\n",
       "      <td>9</td>\n",
       "      <td>-48.116189</td>\n",
       "      <td>-15.848929</td>\n",
       "    </tr>\n",
       "    <tr>\n",
       "      <th>1</th>\n",
       "      <td>cvrp-2-df-33</td>\n",
       "      <td>df-2</td>\n",
       "      <td>-48.054989</td>\n",
       "      <td>-15.838145</td>\n",
       "      <td>Taguatinga</td>\n",
       "      <td>Taguatinga</td>\n",
       "      <td>180</td>\n",
       "      <td>2</td>\n",
       "      <td>-48.118195</td>\n",
       "      <td>-15.850772</td>\n",
       "    </tr>\n",
       "    <tr>\n",
       "      <th>2</th>\n",
       "      <td>cvrp-2-df-33</td>\n",
       "      <td>df-2</td>\n",
       "      <td>-48.054989</td>\n",
       "      <td>-15.838145</td>\n",
       "      <td>Taguatinga</td>\n",
       "      <td>Taguatinga</td>\n",
       "      <td>180</td>\n",
       "      <td>1</td>\n",
       "      <td>-48.112483</td>\n",
       "      <td>-15.847871</td>\n",
       "    </tr>\n",
       "    <tr>\n",
       "      <th>3</th>\n",
       "      <td>cvrp-2-df-33</td>\n",
       "      <td>df-2</td>\n",
       "      <td>-48.054989</td>\n",
       "      <td>-15.838145</td>\n",
       "      <td>Taguatinga</td>\n",
       "      <td>Taguatinga</td>\n",
       "      <td>180</td>\n",
       "      <td>2</td>\n",
       "      <td>-48.118023</td>\n",
       "      <td>-15.846471</td>\n",
       "    </tr>\n",
       "    <tr>\n",
       "      <th>4</th>\n",
       "      <td>cvrp-2-df-33</td>\n",
       "      <td>df-2</td>\n",
       "      <td>-48.054989</td>\n",
       "      <td>-15.838145</td>\n",
       "      <td>Taguatinga</td>\n",
       "      <td>Taguatinga</td>\n",
       "      <td>180</td>\n",
       "      <td>7</td>\n",
       "      <td>-48.114898</td>\n",
       "      <td>-15.858055</td>\n",
       "    </tr>\n",
       "  </tbody>\n",
       "</table>\n",
       "</div>"
      ],
      "text/plain": [
       "           name region    hub_lng    hub_lat    hub_city  hub_suburb  \\\n",
       "0  cvrp-2-df-33   df-2 -48.054989 -15.838145  Taguatinga  Taguatinga   \n",
       "1  cvrp-2-df-33   df-2 -48.054989 -15.838145  Taguatinga  Taguatinga   \n",
       "2  cvrp-2-df-33   df-2 -48.054989 -15.838145  Taguatinga  Taguatinga   \n",
       "3  cvrp-2-df-33   df-2 -48.054989 -15.838145  Taguatinga  Taguatinga   \n",
       "4  cvrp-2-df-33   df-2 -48.054989 -15.838145  Taguatinga  Taguatinga   \n",
       "\n",
       "   vehicle_capacity  delivery_size  delivery_lng  delivery_lat  \n",
       "0               180              9    -48.116189    -15.848929  \n",
       "1               180              2    -48.118195    -15.850772  \n",
       "2               180              1    -48.112483    -15.847871  \n",
       "3               180              2    -48.118023    -15.846471  \n",
       "4               180              7    -48.114898    -15.858055  "
      ]
     },
     "execution_count": 10,
     "metadata": {},
     "output_type": "execute_result"
    }
   ],
   "source": [
    "geolocator = Nominatim(user_agent=\"ebac_geocoder\")\n",
    "geocoder = RateLimiter(geolocator.reverse, min_delay_seconds=1)\n",
    "\n",
    "#enviando coord hubs\n",
    "hub_df = deliveries_df[[\"region\", \"hub_lng\", \"hub_lat\"]]\n",
    "hub_df = hub_df.drop_duplicates().sort_values(by=\"region\").reset_index(drop=True)\n",
    "hub_df[\"coordinates\"] = hub_df[\"hub_lat\"].astype(str)  + \", \" + hub_df[\"hub_lng\"].astype(str)\n",
    "hub_df[\"geodata\"] = hub_df[\"coordinates\"].apply(geocoder)\n",
    "\n",
    "#trabalhando retorno\n",
    "hub_geodata_df = pd.json_normalize(hub_df[\"geodata\"].apply(lambda data: data.raw))\n",
    "hub_geodata_df = hub_geodata_df[[\"address.town\", \"address.suburb\", \"address.city\"]]\n",
    "hub_geodata_df.rename(columns={\"address.town\": \"hub_town\", \"address.suburb\": \"hub_suburb\", \"address.city\": \"hub_city\"}, inplace=True)\n",
    "hub_geodata_df[\"hub_city\"] = np.where(hub_geodata_df[\"hub_city\"].notna(), hub_geodata_df[\"hub_city\"], hub_geodata_df[\"hub_town\"])\n",
    "hub_geodata_df[\"hub_suburb\"] = np.where(hub_geodata_df[\"hub_suburb\"].notna(), hub_geodata_df[\"hub_suburb\"], hub_geodata_df[\"hub_city\"])\n",
    "hub_geodata_df = hub_geodata_df.drop(\"hub_town\", axis=1)\n",
    "\n",
    "#reagrupando as colunas no df principal\n",
    "hub_df = pd.merge(left=hub_df, right=hub_geodata_df, left_index=True, right_index=True)\n",
    "hub_df = hub_df[[\"region\", \"hub_suburb\", \"hub_city\"]]\n",
    "deliveries_df = pd.merge(left=deliveries_df, right=hub_df, how=\"inner\", on=\"region\")\n",
    "deliveries_df = deliveries_df[[\"name\", \"region\", \"hub_lng\", \"hub_lat\", \"hub_city\", \"hub_suburb\", \n",
    "                               \"vehicle_capacity\", \"delivery_size\", \"delivery_lng\", \"delivery_lat\"]]\n",
    "deliveries_df.head()"
   ]
  },
  {
   "cell_type": "markdown",
   "id": "eb76013b",
   "metadata": {
    "id": "gt_P1bJy5f0f",
    "papermill": {
     "duration": 0.012905,
     "end_time": "2022-12-01T11:31:10.359685",
     "exception": false,
     "start_time": "2022-12-01T11:31:10.346780",
     "status": "completed"
    },
    "tags": []
   },
   "source": [
    "Enquanto o **hub** contem apenas **3** geolocalizações distintas, as **entregas** somam o total de **636.149**, o que levaria em torno de 7 dias para serem consultadas no servidor do Nominatim, dada a restrição de uma consulta por segundo, por isso já iremos usar os dados prontos."
   ]
  },
  {
   "cell_type": "code",
   "execution_count": 11,
   "id": "3e3115ac",
   "metadata": {
    "_kg_hide-input": true,
    "collapsed": false,
    "execution": {
     "iopub.execute_input": "2022-12-01T11:31:10.387895Z",
     "iopub.status.busy": "2022-12-01T11:31:10.387471Z",
     "iopub.status.idle": "2022-12-01T11:31:10.993635Z",
     "shell.execute_reply": "2022-12-01T11:31:10.992393Z"
    },
    "id": "MP4KICf05f0g",
    "jupyter": {
     "outputs_hidden": false
    },
    "outputId": "60eca46f-7196-424f-838e-1b6cba1fc5f0",
    "papermill": {
     "duration": 0.623431,
     "end_time": "2022-12-01T11:31:10.996272",
     "exception": false,
     "start_time": "2022-12-01T11:31:10.372841",
     "status": "completed"
    },
    "tags": []
   },
   "outputs": [
    {
     "data": {
      "text/html": [
       "<div>\n",
       "<style scoped>\n",
       "    .dataframe tbody tr th:only-of-type {\n",
       "        vertical-align: middle;\n",
       "    }\n",
       "\n",
       "    .dataframe tbody tr th {\n",
       "        vertical-align: top;\n",
       "    }\n",
       "\n",
       "    .dataframe thead th {\n",
       "        text-align: right;\n",
       "    }\n",
       "</style>\n",
       "<table border=\"1\" class=\"dataframe\">\n",
       "  <thead>\n",
       "    <tr style=\"text-align: right;\">\n",
       "      <th></th>\n",
       "      <th>name</th>\n",
       "      <th>region</th>\n",
       "      <th>hub_lng</th>\n",
       "      <th>hub_lat</th>\n",
       "      <th>hub_city</th>\n",
       "      <th>hub_suburb</th>\n",
       "      <th>vehicle_capacity</th>\n",
       "      <th>delivery_size</th>\n",
       "      <th>delivery_lng</th>\n",
       "      <th>delivery_lat</th>\n",
       "      <th>delivery_city</th>\n",
       "      <th>delivery_suburb</th>\n",
       "    </tr>\n",
       "  </thead>\n",
       "  <tbody>\n",
       "    <tr>\n",
       "      <th>0</th>\n",
       "      <td>cvrp-2-df-33</td>\n",
       "      <td>df-2</td>\n",
       "      <td>-48.054989</td>\n",
       "      <td>-15.838145</td>\n",
       "      <td>Taguatinga</td>\n",
       "      <td>Taguatinga</td>\n",
       "      <td>180</td>\n",
       "      <td>9</td>\n",
       "      <td>-48.116189</td>\n",
       "      <td>-15.848929</td>\n",
       "      <td>Ceilândia</td>\n",
       "      <td>P Sul</td>\n",
       "    </tr>\n",
       "    <tr>\n",
       "      <th>1</th>\n",
       "      <td>cvrp-2-df-33</td>\n",
       "      <td>df-2</td>\n",
       "      <td>-48.054989</td>\n",
       "      <td>-15.838145</td>\n",
       "      <td>Taguatinga</td>\n",
       "      <td>Taguatinga</td>\n",
       "      <td>180</td>\n",
       "      <td>2</td>\n",
       "      <td>-48.118195</td>\n",
       "      <td>-15.850772</td>\n",
       "      <td>Ceilândia</td>\n",
       "      <td>P Sul</td>\n",
       "    </tr>\n",
       "    <tr>\n",
       "      <th>2</th>\n",
       "      <td>cvrp-2-df-33</td>\n",
       "      <td>df-2</td>\n",
       "      <td>-48.054989</td>\n",
       "      <td>-15.838145</td>\n",
       "      <td>Taguatinga</td>\n",
       "      <td>Taguatinga</td>\n",
       "      <td>180</td>\n",
       "      <td>1</td>\n",
       "      <td>-48.112483</td>\n",
       "      <td>-15.847871</td>\n",
       "      <td>Ceilândia</td>\n",
       "      <td>P Sul</td>\n",
       "    </tr>\n",
       "    <tr>\n",
       "      <th>3</th>\n",
       "      <td>cvrp-2-df-33</td>\n",
       "      <td>df-2</td>\n",
       "      <td>-48.054989</td>\n",
       "      <td>-15.838145</td>\n",
       "      <td>Taguatinga</td>\n",
       "      <td>Taguatinga</td>\n",
       "      <td>180</td>\n",
       "      <td>2</td>\n",
       "      <td>-48.118023</td>\n",
       "      <td>-15.846471</td>\n",
       "      <td>Ceilândia</td>\n",
       "      <td>P Sul</td>\n",
       "    </tr>\n",
       "    <tr>\n",
       "      <th>4</th>\n",
       "      <td>cvrp-2-df-33</td>\n",
       "      <td>df-2</td>\n",
       "      <td>-48.054989</td>\n",
       "      <td>-15.838145</td>\n",
       "      <td>Taguatinga</td>\n",
       "      <td>Taguatinga</td>\n",
       "      <td>180</td>\n",
       "      <td>7</td>\n",
       "      <td>-48.114898</td>\n",
       "      <td>-15.858055</td>\n",
       "      <td>Sol Nascente/Pôr do Sol</td>\n",
       "      <td>Sol Nascente/Pôr do Sol</td>\n",
       "    </tr>\n",
       "  </tbody>\n",
       "</table>\n",
       "</div>"
      ],
      "text/plain": [
       "           name region    hub_lng    hub_lat    hub_city  hub_suburb  \\\n",
       "0  cvrp-2-df-33   df-2 -48.054989 -15.838145  Taguatinga  Taguatinga   \n",
       "1  cvrp-2-df-33   df-2 -48.054989 -15.838145  Taguatinga  Taguatinga   \n",
       "2  cvrp-2-df-33   df-2 -48.054989 -15.838145  Taguatinga  Taguatinga   \n",
       "3  cvrp-2-df-33   df-2 -48.054989 -15.838145  Taguatinga  Taguatinga   \n",
       "4  cvrp-2-df-33   df-2 -48.054989 -15.838145  Taguatinga  Taguatinga   \n",
       "\n",
       "   vehicle_capacity  delivery_size  delivery_lng  delivery_lat  \\\n",
       "0               180              9    -48.116189    -15.848929   \n",
       "1               180              2    -48.118195    -15.850772   \n",
       "2               180              1    -48.112483    -15.847871   \n",
       "3               180              2    -48.118023    -15.846471   \n",
       "4               180              7    -48.114898    -15.858055   \n",
       "\n",
       "             delivery_city          delivery_suburb  \n",
       "0                Ceilândia                    P Sul  \n",
       "1                Ceilândia                    P Sul  \n",
       "2                Ceilândia                    P Sul  \n",
       "3                Ceilândia                    P Sul  \n",
       "4  Sol Nascente/Pôr do Sol  Sol Nascente/Pôr do Sol  "
      ]
     },
     "execution_count": 11,
     "metadata": {},
     "output_type": "execute_result"
    }
   ],
   "source": [
    "deliveries_geodata_df = pd.read_csv(\"deliveries-geodata.csv\")\n",
    "deliveries_df = pd.merge(left=deliveries_df, right=deliveries_geodata_df[[\"delivery_city\", \"delivery_suburb\"]], how=\"inner\", left_index=True, right_index=True)\n",
    "deliveries_df.head()"
   ]
  },
  {
   "cell_type": "markdown",
   "id": "ebc62c57",
   "metadata": {
    "id": "2d8H6JxD5f0g",
    "papermill": {
     "duration": 0.013254,
     "end_time": "2022-12-01T11:31:11.023502",
     "exception": false,
     "start_time": "2022-12-01T11:31:11.010248",
     "status": "completed"
    },
    "tags": []
   },
   "source": [
    "Atribuindo dados gerais do DF disponibilizados pelo Codeplan [link](https://www.codeplan.df.gov.br/). A companhia de Planejamento do Distrito Federal (Codeplan) é uma empresa estatal brasileira do Distrito Federal que busca gerar conhecimento e inovação para aprimorar as políticas públicas do Governo do Distrito Federal e melhorar as condições de vida da população."
   ]
  },
  {
   "cell_type": "code",
   "execution_count": 12,
   "id": "ab53b6bd",
   "metadata": {
    "_kg_hide-input": true,
    "collapsed": false,
    "execution": {
     "iopub.execute_input": "2022-12-01T11:31:11.052257Z",
     "iopub.status.busy": "2022-12-01T11:31:11.051836Z",
     "iopub.status.idle": "2022-12-01T11:31:11.312430Z",
     "shell.execute_reply": "2022-12-01T11:31:11.311436Z"
    },
    "id": "Zj4FNbeo5f0g",
    "jupyter": {
     "outputs_hidden": false
    },
    "outputId": "eaad3b5b-bb4c-4173-d53f-eb03f364a88a",
    "papermill": {
     "duration": 0.277943,
     "end_time": "2022-12-01T11:31:11.314873",
     "exception": false,
     "start_time": "2022-12-01T11:31:11.036930",
     "status": "completed"
    },
    "tags": []
   },
   "outputs": [
    {
     "data": {
      "text/html": [
       "<div>\n",
       "<style scoped>\n",
       "    .dataframe tbody tr th:only-of-type {\n",
       "        vertical-align: middle;\n",
       "    }\n",
       "\n",
       "    .dataframe tbody tr th {\n",
       "        vertical-align: top;\n",
       "    }\n",
       "\n",
       "    .dataframe thead th {\n",
       "        text-align: right;\n",
       "    }\n",
       "</style>\n",
       "<table border=\"1\" class=\"dataframe\">\n",
       "  <thead>\n",
       "    <tr style=\"text-align: right;\">\n",
       "      <th></th>\n",
       "      <th>name</th>\n",
       "      <th>region</th>\n",
       "      <th>hub_lng</th>\n",
       "      <th>hub_lat</th>\n",
       "      <th>hub_city</th>\n",
       "      <th>hub_suburb</th>\n",
       "      <th>vehicle_capacity</th>\n",
       "      <th>delivery_size</th>\n",
       "      <th>delivery_lng</th>\n",
       "      <th>delivery_lat</th>\n",
       "      <th>delivery_city</th>\n",
       "      <th>delivery_suburb</th>\n",
       "      <th>populacao_total</th>\n",
       "      <th>renda_domiciliar_per</th>\n",
       "    </tr>\n",
       "  </thead>\n",
       "  <tbody>\n",
       "    <tr>\n",
       "      <th>0</th>\n",
       "      <td>cvrp-2-df-33</td>\n",
       "      <td>df-2</td>\n",
       "      <td>-48.054989</td>\n",
       "      <td>-15.838145</td>\n",
       "      <td>Taguatinga</td>\n",
       "      <td>Taguatinga</td>\n",
       "      <td>180</td>\n",
       "      <td>9</td>\n",
       "      <td>-48.116189</td>\n",
       "      <td>-15.848929</td>\n",
       "      <td>Ceilândia</td>\n",
       "      <td>P Sul</td>\n",
       "      <td>350347.0</td>\n",
       "      <td>1727.537565</td>\n",
       "    </tr>\n",
       "    <tr>\n",
       "      <th>1</th>\n",
       "      <td>cvrp-2-df-33</td>\n",
       "      <td>df-2</td>\n",
       "      <td>-48.054989</td>\n",
       "      <td>-15.838145</td>\n",
       "      <td>Taguatinga</td>\n",
       "      <td>Taguatinga</td>\n",
       "      <td>180</td>\n",
       "      <td>2</td>\n",
       "      <td>-48.118195</td>\n",
       "      <td>-15.850772</td>\n",
       "      <td>Ceilândia</td>\n",
       "      <td>P Sul</td>\n",
       "      <td>350347.0</td>\n",
       "      <td>1727.537565</td>\n",
       "    </tr>\n",
       "    <tr>\n",
       "      <th>2</th>\n",
       "      <td>cvrp-2-df-33</td>\n",
       "      <td>df-2</td>\n",
       "      <td>-48.054989</td>\n",
       "      <td>-15.838145</td>\n",
       "      <td>Taguatinga</td>\n",
       "      <td>Taguatinga</td>\n",
       "      <td>180</td>\n",
       "      <td>1</td>\n",
       "      <td>-48.112483</td>\n",
       "      <td>-15.847871</td>\n",
       "      <td>Ceilândia</td>\n",
       "      <td>P Sul</td>\n",
       "      <td>350347.0</td>\n",
       "      <td>1727.537565</td>\n",
       "    </tr>\n",
       "    <tr>\n",
       "      <th>3</th>\n",
       "      <td>cvrp-2-df-33</td>\n",
       "      <td>df-2</td>\n",
       "      <td>-48.054989</td>\n",
       "      <td>-15.838145</td>\n",
       "      <td>Taguatinga</td>\n",
       "      <td>Taguatinga</td>\n",
       "      <td>180</td>\n",
       "      <td>2</td>\n",
       "      <td>-48.118023</td>\n",
       "      <td>-15.846471</td>\n",
       "      <td>Ceilândia</td>\n",
       "      <td>P Sul</td>\n",
       "      <td>350347.0</td>\n",
       "      <td>1727.537565</td>\n",
       "    </tr>\n",
       "    <tr>\n",
       "      <th>4</th>\n",
       "      <td>cvrp-2-df-33</td>\n",
       "      <td>df-2</td>\n",
       "      <td>-48.054989</td>\n",
       "      <td>-15.838145</td>\n",
       "      <td>Taguatinga</td>\n",
       "      <td>Taguatinga</td>\n",
       "      <td>180</td>\n",
       "      <td>7</td>\n",
       "      <td>-48.114898</td>\n",
       "      <td>-15.858055</td>\n",
       "      <td>Sol Nascente/Pôr do Sol</td>\n",
       "      <td>Sol Nascente/Pôr do Sol</td>\n",
       "      <td>93217.0</td>\n",
       "      <td>915.515516</td>\n",
       "    </tr>\n",
       "  </tbody>\n",
       "</table>\n",
       "</div>"
      ],
      "text/plain": [
       "           name region    hub_lng    hub_lat    hub_city  hub_suburb  \\\n",
       "0  cvrp-2-df-33   df-2 -48.054989 -15.838145  Taguatinga  Taguatinga   \n",
       "1  cvrp-2-df-33   df-2 -48.054989 -15.838145  Taguatinga  Taguatinga   \n",
       "2  cvrp-2-df-33   df-2 -48.054989 -15.838145  Taguatinga  Taguatinga   \n",
       "3  cvrp-2-df-33   df-2 -48.054989 -15.838145  Taguatinga  Taguatinga   \n",
       "4  cvrp-2-df-33   df-2 -48.054989 -15.838145  Taguatinga  Taguatinga   \n",
       "\n",
       "   vehicle_capacity  delivery_size  delivery_lng  delivery_lat  \\\n",
       "0               180              9    -48.116189    -15.848929   \n",
       "1               180              2    -48.118195    -15.850772   \n",
       "2               180              1    -48.112483    -15.847871   \n",
       "3               180              2    -48.118023    -15.846471   \n",
       "4               180              7    -48.114898    -15.858055   \n",
       "\n",
       "             delivery_city          delivery_suburb  populacao_total  \\\n",
       "0                Ceilândia                    P Sul         350347.0   \n",
       "1                Ceilândia                    P Sul         350347.0   \n",
       "2                Ceilândia                    P Sul         350347.0   \n",
       "3                Ceilândia                    P Sul         350347.0   \n",
       "4  Sol Nascente/Pôr do Sol  Sol Nascente/Pôr do Sol          93217.0   \n",
       "\n",
       "   renda_domiciliar_per  \n",
       "0           1727.537565  \n",
       "1           1727.537565  \n",
       "2           1727.537565  \n",
       "3           1727.537565  \n",
       "4            915.515516  "
      ]
     },
     "execution_count": 12,
     "metadata": {},
     "output_type": "execute_result"
    }
   ],
   "source": [
    "df_df = pd.read_excel('DF.xls', '1.1. Dados gerais, por RA')\n",
    "df_df = df_df.dropna()\n",
    "df_df.rename({'Dados gerais, por região administrativa - Distrito Federal - 2021': 'delivery_city', 'Unnamed: 3': 'populacao_total', 'Unnamed: 8': 'renda_domiciliar_per'}, axis=1, inplace=True)\n",
    "df_df = df_df[['delivery_city', 'populacao_total', 'renda_domiciliar_per']]\n",
    "df_df[['populacao_total', 'renda_domiciliar_per']] = df_df[['populacao_total', 'renda_domiciliar_per']].apply(pd.to_numeric)\n",
    "df_df.reset_index(inplace=True, drop=True)\n",
    "df= pd.merge(deliveries_df, df_df, how='left', on='delivery_city')\n",
    "df.head()"
   ]
  },
  {
   "cell_type": "markdown",
   "id": "8db5bc90",
   "metadata": {
    "id": "n6t0ikDX5f0g",
    "papermill": {
     "duration": 0.013671,
     "end_time": "2022-12-01T11:31:11.342582",
     "exception": false,
     "start_time": "2022-12-01T11:31:11.328911",
     "status": "completed"
    },
    "tags": []
   },
   "source": [
    "**4.2 Controle de qualidade**"
   ]
  },
  {
   "cell_type": "code",
   "execution_count": 13,
   "id": "a09f30cf",
   "metadata": {
    "_kg_hide-input": true,
    "collapsed": false,
    "execution": {
     "iopub.execute_input": "2022-12-01T11:31:11.373515Z",
     "iopub.status.busy": "2022-12-01T11:31:11.372737Z",
     "iopub.status.idle": "2022-12-01T11:31:11.726954Z",
     "shell.execute_reply": "2022-12-01T11:31:11.725540Z"
    },
    "id": "pAc401SG5f0g",
    "jupyter": {
     "outputs_hidden": false
    },
    "outputId": "95987b6c-b23e-4faf-9ae8-7bac6d20408a",
    "papermill": {
     "duration": 0.373051,
     "end_time": "2022-12-01T11:31:11.729701",
     "exception": false,
     "start_time": "2022-12-01T11:31:11.356650",
     "status": "completed"
    },
    "tags": []
   },
   "outputs": [
    {
     "data": {
      "text/html": [
       "<div>\n",
       "<style scoped>\n",
       "    .dataframe tbody tr th:only-of-type {\n",
       "        vertical-align: middle;\n",
       "    }\n",
       "\n",
       "    .dataframe tbody tr th {\n",
       "        vertical-align: top;\n",
       "    }\n",
       "\n",
       "    .dataframe thead th {\n",
       "        text-align: right;\n",
       "    }\n",
       "</style>\n",
       "<table border=\"1\" class=\"dataframe\">\n",
       "  <thead>\n",
       "    <tr style=\"text-align: right;\">\n",
       "      <th></th>\n",
       "      <th>count</th>\n",
       "      <th>mean</th>\n",
       "      <th>std</th>\n",
       "      <th>min</th>\n",
       "      <th>25%</th>\n",
       "      <th>50%</th>\n",
       "      <th>75%</th>\n",
       "      <th>max</th>\n",
       "    </tr>\n",
       "  </thead>\n",
       "  <tbody>\n",
       "    <tr>\n",
       "      <th>hub_lng</th>\n",
       "      <td>636149.0</td>\n",
       "      <td>-47.949902</td>\n",
       "      <td>0.091875</td>\n",
       "      <td>-48.054989</td>\n",
       "      <td>-48.054989</td>\n",
       "      <td>-47.893662</td>\n",
       "      <td>-47.893662</td>\n",
       "      <td>-47.802665</td>\n",
       "    </tr>\n",
       "    <tr>\n",
       "      <th>hub_lat</th>\n",
       "      <td>636149.0</td>\n",
       "      <td>-15.802359</td>\n",
       "      <td>0.053463</td>\n",
       "      <td>-15.838145</td>\n",
       "      <td>-15.838145</td>\n",
       "      <td>-15.805118</td>\n",
       "      <td>-15.805118</td>\n",
       "      <td>-15.657014</td>\n",
       "    </tr>\n",
       "    <tr>\n",
       "      <th>delivery_lng</th>\n",
       "      <td>636149.0</td>\n",
       "      <td>-47.946087</td>\n",
       "      <td>0.112769</td>\n",
       "      <td>-48.280779</td>\n",
       "      <td>-48.035911</td>\n",
       "      <td>-47.928967</td>\n",
       "      <td>-47.883394</td>\n",
       "      <td>-47.310611</td>\n",
       "    </tr>\n",
       "    <tr>\n",
       "      <th>delivery_lat</th>\n",
       "      <td>636149.0</td>\n",
       "      <td>-15.809492</td>\n",
       "      <td>0.082462</td>\n",
       "      <td>-16.050028</td>\n",
       "      <td>-15.842795</td>\n",
       "      <td>-15.814033</td>\n",
       "      <td>-15.769516</td>\n",
       "      <td>-15.500355</td>\n",
       "    </tr>\n",
       "    <tr>\n",
       "      <th>populacao_total</th>\n",
       "      <td>481664.0</td>\n",
       "      <td>125262.189381</td>\n",
       "      <td>91439.912201</td>\n",
       "      <td>1737.000000</td>\n",
       "      <td>55366.000000</td>\n",
       "      <td>120107.000000</td>\n",
       "      <td>186498.000000</td>\n",
       "      <td>350347.000000</td>\n",
       "    </tr>\n",
       "    <tr>\n",
       "      <th>renda_domiciliar_per</th>\n",
       "      <td>481664.0</td>\n",
       "      <td>4025.860031</td>\n",
       "      <td>2814.819855</td>\n",
       "      <td>695.372976</td>\n",
       "      <td>1772.873565</td>\n",
       "      <td>2619.294968</td>\n",
       "      <td>6003.780127</td>\n",
       "      <td>10979.134888</td>\n",
       "    </tr>\n",
       "  </tbody>\n",
       "</table>\n",
       "</div>"
      ],
      "text/plain": [
       "                         count           mean           std          min  \\\n",
       "hub_lng               636149.0     -47.949902      0.091875   -48.054989   \n",
       "hub_lat               636149.0     -15.802359      0.053463   -15.838145   \n",
       "delivery_lng          636149.0     -47.946087      0.112769   -48.280779   \n",
       "delivery_lat          636149.0     -15.809492      0.082462   -16.050028   \n",
       "populacao_total       481664.0  125262.189381  91439.912201  1737.000000   \n",
       "renda_domiciliar_per  481664.0    4025.860031   2814.819855   695.372976   \n",
       "\n",
       "                               25%            50%            75%  \\\n",
       "hub_lng                 -48.054989     -47.893662     -47.893662   \n",
       "hub_lat                 -15.838145     -15.805118     -15.805118   \n",
       "delivery_lng            -48.035911     -47.928967     -47.883394   \n",
       "delivery_lat            -15.842795     -15.814033     -15.769516   \n",
       "populacao_total       55366.000000  120107.000000  186498.000000   \n",
       "renda_domiciliar_per   1772.873565    2619.294968    6003.780127   \n",
       "\n",
       "                                max  \n",
       "hub_lng                  -47.802665  \n",
       "hub_lat                  -15.657014  \n",
       "delivery_lng             -47.310611  \n",
       "delivery_lat             -15.500355  \n",
       "populacao_total       350347.000000  \n",
       "renda_domiciliar_per   10979.134888  "
      ]
     },
     "execution_count": 13,
     "metadata": {},
     "output_type": "execute_result"
    }
   ],
   "source": [
    "df.select_dtypes(\"float64\").describe().transpose()"
   ]
  },
  {
   "cell_type": "code",
   "execution_count": 14,
   "id": "263d493e",
   "metadata": {
    "_kg_hide-input": true,
    "collapsed": false,
    "execution": {
     "iopub.execute_input": "2022-12-01T11:31:11.759923Z",
     "iopub.status.busy": "2022-12-01T11:31:11.759494Z",
     "iopub.status.idle": "2022-12-01T11:31:11.942961Z",
     "shell.execute_reply": "2022-12-01T11:31:11.941562Z"
    },
    "id": "GVotC4zX5f0h",
    "jupyter": {
     "outputs_hidden": false
    },
    "outputId": "8f2658b8-4533-45d4-b7d6-1e01398c196e",
    "papermill": {
     "duration": 0.20217,
     "end_time": "2022-12-01T11:31:11.946285",
     "exception": false,
     "start_time": "2022-12-01T11:31:11.744115",
     "status": "completed"
    },
    "tags": []
   },
   "outputs": [
    {
     "name": "stdout",
     "output_type": "stream",
     "text": [
      "<class 'pandas.core.frame.DataFrame'>\n",
      "Int64Index: 636149 entries, 0 to 636148\n",
      "Data columns (total 14 columns):\n",
      " #   Column                Non-Null Count   Dtype  \n",
      "---  ------                --------------   -----  \n",
      " 0   name                  636149 non-null  object \n",
      " 1   region                636149 non-null  object \n",
      " 2   hub_lng               636149 non-null  float64\n",
      " 3   hub_lat               636149 non-null  float64\n",
      " 4   hub_city              636149 non-null  object \n",
      " 5   hub_suburb            636149 non-null  object \n",
      " 6   vehicle_capacity      636149 non-null  int64  \n",
      " 7   delivery_size         636149 non-null  int64  \n",
      " 8   delivery_lng          636149 non-null  float64\n",
      " 9   delivery_lat          636149 non-null  float64\n",
      " 10  delivery_city         634447 non-null  object \n",
      " 11  delivery_suburb       476264 non-null  object \n",
      " 12  populacao_total       481664 non-null  float64\n",
      " 13  renda_domiciliar_per  481664 non-null  float64\n",
      "dtypes: float64(6), int64(2), object(6)\n",
      "memory usage: 72.8+ MB\n"
     ]
    }
   ],
   "source": [
    "df.info()"
   ]
  },
  {
   "cell_type": "code",
   "execution_count": 15,
   "id": "8c76e19d",
   "metadata": {
    "_kg_hide-input": true,
    "collapsed": false,
    "execution": {
     "iopub.execute_input": "2022-12-01T11:31:11.981666Z",
     "iopub.status.busy": "2022-12-01T11:31:11.981019Z",
     "iopub.status.idle": "2022-12-01T11:31:12.149365Z",
     "shell.execute_reply": "2022-12-01T11:31:12.148229Z"
    },
    "id": "3n2vipb15f0h",
    "jupyter": {
     "outputs_hidden": false
    },
    "outputId": "b0c37059-570c-4a08-8684-c7c210df349a",
    "papermill": {
     "duration": 0.188316,
     "end_time": "2022-12-01T11:31:12.152146",
     "exception": false,
     "start_time": "2022-12-01T11:31:11.963830",
     "status": "completed"
    },
    "tags": []
   },
   "outputs": [
    {
     "data": {
      "text/plain": [
       "name                    False\n",
       "region                  False\n",
       "hub_lng                 False\n",
       "hub_lat                 False\n",
       "hub_city                False\n",
       "hub_suburb              False\n",
       "vehicle_capacity        False\n",
       "delivery_size           False\n",
       "delivery_lng            False\n",
       "delivery_lat            False\n",
       "delivery_city            True\n",
       "delivery_suburb          True\n",
       "populacao_total          True\n",
       "renda_domiciliar_per     True\n",
       "dtype: bool"
      ]
     },
     "execution_count": 15,
     "metadata": {},
     "output_type": "execute_result"
    }
   ],
   "source": [
    "df.isna().any()"
   ]
  },
  {
   "cell_type": "code",
   "execution_count": 16,
   "id": "e96bde17",
   "metadata": {
    "_kg_hide-input": true,
    "collapsed": false,
    "execution": {
     "iopub.execute_input": "2022-12-01T11:31:12.183866Z",
     "iopub.status.busy": "2022-12-01T11:31:12.183423Z",
     "iopub.status.idle": "2022-12-01T11:31:12.219761Z",
     "shell.execute_reply": "2022-12-01T11:31:12.218625Z"
    },
    "id": "m3zY0Zv85f0h",
    "jupyter": {
     "outputs_hidden": false
    },
    "outputId": "0c3898ec-01c5-4ced-ae68-30fd2a982cbf",
    "papermill": {
     "duration": 0.055051,
     "end_time": "2022-12-01T11:31:12.222274",
     "exception": false,
     "start_time": "2022-12-01T11:31:12.167223",
     "status": "completed"
    },
    "tags": []
   },
   "outputs": [
    {
     "data": {
      "text/plain": [
       "0.26754738276724477"
      ]
     },
     "execution_count": 16,
     "metadata": {},
     "output_type": "execute_result"
    }
   ],
   "source": [
    "100 * (df[\"delivery_city\"].isna().sum() / len(deliveries_df))"
   ]
  },
  {
   "cell_type": "code",
   "execution_count": 17,
   "id": "f71dabf0",
   "metadata": {
    "_kg_hide-input": true,
    "collapsed": false,
    "execution": {
     "iopub.execute_input": "2022-12-01T11:31:12.253973Z",
     "iopub.status.busy": "2022-12-01T11:31:12.253557Z",
     "iopub.status.idle": "2022-12-01T11:31:12.407891Z",
     "shell.execute_reply": "2022-12-01T11:31:12.407007Z"
    },
    "id": "9vzIvw0Y5f0h",
    "jupyter": {
     "outputs_hidden": false
    },
    "outputId": "a3b780aa-ee2a-42be-b2ab-1a17c75cf9f7",
    "papermill": {
     "duration": 0.17357,
     "end_time": "2022-12-01T11:31:12.410345",
     "exception": false,
     "start_time": "2022-12-01T11:31:12.236775",
     "status": "completed"
    },
    "tags": []
   },
   "outputs": [
    {
     "data": {
      "text/plain": [
       "delivery_city       \n",
       "Brasília                0.234195\n",
       "Taguatinga              0.071625\n",
       "Sudoeste / Octogonal    0.069504\n",
       "Ceilândia               0.059661\n",
       "Águas Claras            0.058293\n",
       "Guará                   0.055619\n",
       "Lago Sul                0.045620\n",
       "Sobradinho              0.045412\n",
       "Lago Norte              0.040832\n",
       "Gama                    0.034880\n",
       "dtype: float64"
      ]
     },
     "execution_count": 17,
     "metadata": {},
     "output_type": "execute_result"
    }
   ],
   "source": [
    "prop_df = deliveries_df[[\"delivery_city\"]].value_counts() / len(deliveries_df)\n",
    "prop_df.sort_values(ascending=False).head(10)"
   ]
  },
  {
   "cell_type": "code",
   "execution_count": 18,
   "id": "a232afae",
   "metadata": {
    "_kg_hide-input": true,
    "collapsed": false,
    "execution": {
     "iopub.execute_input": "2022-12-01T11:31:12.442433Z",
     "iopub.status.busy": "2022-12-01T11:31:12.441524Z",
     "iopub.status.idle": "2022-12-01T11:31:12.529668Z",
     "shell.execute_reply": "2022-12-01T11:31:12.528389Z"
    },
    "id": "f5WfVnvV5f0h",
    "jupyter": {
     "outputs_hidden": false
    },
    "outputId": "6fa266a6-202c-4dec-db9c-5a704f24a0a3",
    "papermill": {
     "duration": 0.106941,
     "end_time": "2022-12-01T11:31:12.532489",
     "exception": false,
     "start_time": "2022-12-01T11:31:12.425548",
     "status": "completed"
    },
    "tags": []
   },
   "outputs": [
    {
     "data": {
      "text/html": [
       "<div>\n",
       "<style scoped>\n",
       "    .dataframe tbody tr th:only-of-type {\n",
       "        vertical-align: middle;\n",
       "    }\n",
       "\n",
       "    .dataframe tbody tr th {\n",
       "        vertical-align: top;\n",
       "    }\n",
       "\n",
       "    .dataframe thead th {\n",
       "        text-align: right;\n",
       "    }\n",
       "</style>\n",
       "<table border=\"1\" class=\"dataframe\">\n",
       "  <thead>\n",
       "    <tr style=\"text-align: right;\">\n",
       "      <th></th>\n",
       "      <th>region</th>\n",
       "      <th>delivery_city</th>\n",
       "      <th>0</th>\n",
       "    </tr>\n",
       "  </thead>\n",
       "  <tbody>\n",
       "    <tr>\n",
       "      <th>0</th>\n",
       "      <td>df-2</td>\n",
       "      <td>Brasília</td>\n",
       "      <td>0.466134</td>\n",
       "    </tr>\n",
       "    <tr>\n",
       "      <th>1</th>\n",
       "      <td>df-1</td>\n",
       "      <td>Brasília</td>\n",
       "      <td>0.437902</td>\n",
       "    </tr>\n",
       "    <tr>\n",
       "      <th>2</th>\n",
       "      <td>df-0</td>\n",
       "      <td>Brasília</td>\n",
       "      <td>0.095964</td>\n",
       "    </tr>\n",
       "  </tbody>\n",
       "</table>\n",
       "</div>"
      ],
      "text/plain": [
       "  region delivery_city         0\n",
       "0   df-2      Brasília  0.466134\n",
       "1   df-1      Brasília  0.437902\n",
       "2   df-0      Brasília  0.095964"
      ]
     },
     "execution_count": 18,
     "metadata": {},
     "output_type": "execute_result"
    }
   ],
   "source": [
    "jj = deliveries_df.query('delivery_city == \"Brasília\"')\n",
    "pd.DataFrame(jj[['region', 'delivery_city']].value_counts(normalize=True)).reset_index()"
   ]
  },
  {
   "cell_type": "markdown",
   "id": "634a2655",
   "metadata": {
    "id": "sqUyAtin5f0h",
    "papermill": {
     "duration": 0.014799,
     "end_time": "2022-12-01T11:31:12.562334",
     "exception": false,
     "start_time": "2022-12-01T11:31:12.547535",
     "status": "completed"
    },
    "tags": []
   },
   "source": [
    "Os dados consebidos pela geocodificação são faltantes e imprecisos. Como exemplo é possível notar o valor incoerente de 'Brasilia\" muitas vezes no \"delivery_city/suburb\"."
   ]
  },
  {
   "cell_type": "markdown",
   "id": "4b9d3cc7",
   "metadata": {
    "id": "KSgjP--1JS9R",
    "papermill": {
     "duration": 0.014383,
     "end_time": "2022-12-01T11:31:12.591508",
     "exception": false,
     "start_time": "2022-12-01T11:31:12.577125",
     "status": "completed"
    },
    "tags": []
   },
   "source": [
    "## 5\\. Visualização"
   ]
  },
  {
   "cell_type": "markdown",
   "id": "b6ae1fbe",
   "metadata": {
    "id": "NleJuvAQ5f0i",
    "papermill": {
     "duration": 0.014434,
     "end_time": "2022-12-01T11:31:12.620874",
     "exception": false,
     "start_time": "2022-12-01T11:31:12.606440",
     "status": "completed"
    },
    "tags": []
   },
   "source": [
    "**5.1 Mapa de entregas do Distrito Federal**"
   ]
  },
  {
   "cell_type": "markdown",
   "id": "9d721842",
   "metadata": {
    "id": "MEbK-4m55f0i",
    "papermill": {
     "duration": 0.014348,
     "end_time": "2022-12-01T11:31:12.650105",
     "exception": false,
     "start_time": "2022-12-01T11:31:12.635757",
     "status": "completed"
    },
    "tags": []
   },
   "source": [
    "Vamos utilizar o pacote Python GeoPandas ([link](https://geopandas.org/) da documentação) para visualizar as coordenadas dos **hubs** e das **entregas** no mapa do Distrito Federal, segmentados pela região dos **hubs.**"
   ]
  },
  {
   "cell_type": "code",
   "execution_count": 19,
   "id": "deed1836",
   "metadata": {
    "_kg_hide-input": true,
    "collapsed": false,
    "execution": {
     "iopub.execute_input": "2022-12-01T11:31:12.681248Z",
     "iopub.status.busy": "2022-12-01T11:31:12.680838Z",
     "iopub.status.idle": "2022-12-01T11:32:56.552128Z",
     "shell.execute_reply": "2022-12-01T11:32:56.550661Z"
    },
    "id": "_MbFeMJ85f0i",
    "jupyter": {
     "outputs_hidden": false
    },
    "outputId": "c82de96b-3b61-4433-96af-5f59dd94d92b",
    "papermill": {
     "duration": 103.911866,
     "end_time": "2022-12-01T11:32:56.576605",
     "exception": false,
     "start_time": "2022-12-01T11:31:12.664739",
     "status": "completed"
    },
    "tags": []
   },
   "outputs": [
    {
     "data": {
      "image/png": "[encoded data removed]",
      "text/plain": [
       "<Figure size 1417.32x1417.32 with 1 Axes>"
      ]
     },
     "metadata": {
      "needs_background": "light"
     },
     "output_type": "display_data"
    }
   ],
   "source": [
    "mapa = geopandas.read_file(\"distrito-federal.shp\")\n",
    "mapa = mapa.loc[[0]]\n",
    "\n",
    "#mapahubs\n",
    "hub_df = deliveries_df[[\"region\", \"hub_lng\", \"hub_lat\"]].drop_duplicates().reset_index(drop=True)\n",
    "geo_hub_df = geopandas.GeoDataFrame(hub_df, geometry=geopandas.points_from_xy(hub_df[\"hub_lng\"], hub_df[\"hub_lat\"]))\n",
    "\n",
    "#mapaentregas\n",
    "geo_deliveries_df = geopandas.GeoDataFrame(deliveries_df, geometry=geopandas.points_from_xy(deliveries_df[\"delivery_lng\"], deliveries_df[\"delivery_lat\"]))\n",
    "\n",
    "# cria o plot vazio\n",
    "fig, ax = plt.subplots(figsize = (50/2.54, 50/2.54))\n",
    "\n",
    "# plot mapa do distrito federal\n",
    "mapa.plot(ax=ax, alpha=0.4, color=\"lightgrey\")\n",
    "\n",
    "# plot das entregas\n",
    "geo_deliveries_df.query(\"region == 'df-0'\").plot(ax=ax, markersize=1, color=\"red\", label=\"df-0\")\n",
    "geo_deliveries_df.query(\"region == 'df-1'\").plot(ax=ax, markersize=1, color=\"blue\", label=\"df-1\")\n",
    "geo_deliveries_df.query(\"region == 'df-2'\").plot(ax=ax, markersize=1, color=\"seagreen\", label=\"df-2\")\n",
    "\n",
    "# plot dos hubs\n",
    "geo_hub_df.plot(ax=ax, markersize=30, marker=\"x\", color=\"black\", label=\"hub\")\n",
    "\n",
    "# plot da legenda\n",
    "plt.title(\"Entregas no Distrito Federal por Região\", fontdict={\"fontsize\": 16})\n",
    "lgnd = plt.legend(prop={\"size\": 15})\n",
    "for handle in lgnd.legendHandles:\n",
    "    handle.set_sizes([50])"
   ]
  },
  {
   "cell_type": "markdown",
   "id": "42c1b5b8",
   "metadata": {
    "id": "1AlU1JFP5f0i",
    "papermill": {
     "duration": 0.018019,
     "end_time": "2022-12-01T11:32:56.612887",
     "exception": false,
     "start_time": "2022-12-01T11:32:56.594868",
     "status": "completed"
    },
    "tags": []
   },
   "source": [
    "<ul><li>A distribuição de entregas estão coerentes com seus respectivos hubs.</li> <li> Na df-1 pode se notar que há concentração maior proxima ao hub, abrangendo uma área menor que as outras duas.</li> <li> Há uma região quase sem entregas, deduzindo-se que é uma região de dificil acesso ou pouca civilização.</li></ul>"
   ]
  },
  {
   "cell_type": "code",
   "execution_count": 20,
   "id": "043f1607",
   "metadata": {
    "_kg_hide-input": true,
    "collapsed": false,
    "execution": {
     "iopub.execute_input": "2022-12-01T11:32:56.651937Z",
     "iopub.status.busy": "2022-12-01T11:32:56.651548Z",
     "iopub.status.idle": "2022-12-01T11:32:56.972634Z",
     "shell.execute_reply": "2022-12-01T11:32:56.971385Z"
    },
    "id": "-T7kmfly5f0i",
    "jupyter": {
     "outputs_hidden": false
    },
    "outputId": "54a1527b-2ef5-4867-d817-5ad1a9ae82cd",
    "papermill": {
     "duration": 0.343817,
     "end_time": "2022-12-01T11:32:56.975254",
     "exception": false,
     "start_time": "2022-12-01T11:32:56.631437",
     "status": "completed"
    },
    "tags": []
   },
   "outputs": [
    {
     "data": {
      "image/png": "[encoded data removed]",
      "text/plain": [
       "<Figure size 720x432 with 1 Axes>"
      ]
     },
     "metadata": {},
     "output_type": "display_data"
    }
   ],
   "source": [
    "data = pd.DataFrame(deliveries_df[['region', 'vehicle_capacity']].value_counts(normalize=True)).reset_index()\n",
    "data.rename(columns={0: \"region_percent\"}, inplace=True)\n",
    "\n",
    "with sns.axes_style('whitegrid'):\n",
    "  grafico = sns.barplot(data=data, x=\"region\", y=\"region_percent\", ci=None, palette=\"dark\")\n",
    "  grafico.set(xlabel='Região', ylabel='Proporção')\n",
    "  grafico.set_title('Proporção de entregas por região', fontweight='bold')\n",
    "  grafico.figure.set_size_inches(10,6)"
   ]
  },
  {
   "cell_type": "markdown",
   "id": "eb73ab7b",
   "metadata": {
    "id": "uSrOGacW5f0j",
    "papermill": {
     "duration": 0.018582,
     "end_time": "2022-12-01T11:32:57.012817",
     "exception": false,
     "start_time": "2022-12-01T11:32:56.994235",
     "status": "completed"
    },
    "tags": []
   },
   "source": [
    "<ul><li>A distribuição das entregas está muito concentrada nos hubs das regiões 1 e 2, mas pouco no da região 0.</li> <li>A capacidade dos veículos é mesma para todos os hubs, logo os veículos poderiam ser deslocados para as regiões de maior tráfego.</li></ul>"
   ]
  },
  {
   "cell_type": "code",
   "execution_count": 21,
   "id": "41208db0",
   "metadata": {
    "_kg_hide-input": true,
    "collapsed": false,
    "execution": {
     "iopub.execute_input": "2022-12-01T11:32:57.052386Z",
     "iopub.status.busy": "2022-12-01T11:32:57.051895Z",
     "iopub.status.idle": "2022-12-01T11:32:57.801945Z",
     "shell.execute_reply": "2022-12-01T11:32:57.800465Z"
    },
    "id": "3yRO_Y8T5f0j",
    "jupyter": {
     "outputs_hidden": false
    },
    "outputId": "575e268e-e310-44ef-e245-59c23391a06f",
    "papermill": {
     "duration": 0.772992,
     "end_time": "2022-12-01T11:32:57.804682",
     "exception": false,
     "start_time": "2022-12-01T11:32:57.031690",
     "status": "completed"
    },
    "tags": []
   },
   "outputs": [
    {
     "data": {
      "image/png": "[encoded data removed]",
      "text/plain": [
       "<Figure size 720x432 with 1 Axes>"
      ]
     },
     "metadata": {},
     "output_type": "display_data"
    }
   ],
   "source": [
    "data2 = pd.DataFrame(df[['region', 'renda_domiciliar_per']].value_counts()).reset_index()\n",
    "\n",
    "data2.rename(columns={0: \"delivery_count\"}, inplace=True)\n",
    "\n",
    "with sns.axes_style('whitegrid'):\n",
    "  grafico = sns.relplot(data=data2, x=\"renda_domiciliar_per\", y=\"delivery_count\", hue='region', ci=None, palette=\"dark\")\n",
    "  grafico.set(xlabel='Renda domiciliar per', ylabel='Entregas')\n",
    "  grafico.ax.set_title('Renda domiciliar per capita das entregas por região', fontsize=12, fontweight='bold')\n",
    "  grafico.legend.set_title('Região', prop={'size': 9, 'weight': 'bold'})\n",
    "  grafico.fig.set_size_inches(10,6)"
   ]
  },
  {
   "cell_type": "markdown",
   "id": "fdce1da4",
   "metadata": {
    "id": "0zv1Jw2u5f0j",
    "papermill": {
     "duration": 0.019199,
     "end_time": "2022-12-01T11:32:57.843659",
     "exception": false,
     "start_time": "2022-12-01T11:32:57.824460",
     "status": "completed"
    },
    "tags": []
   },
   "source": [
    "<li>Grande parte dos dados faltantes de renda são da região 1 e 2 e mesmo assim elas mostram possuir maior renda, indicando possuir um socioeconômico melhor.</li>"
   ]
  },
  {
   "cell_type": "markdown",
   "id": "25a25737",
   "metadata": {
    "id": "L2m0wtc55f0j",
    "papermill": {
     "duration": 0.018699,
     "end_time": "2022-12-01T11:32:57.881681",
     "exception": false,
     "start_time": "2022-12-01T11:32:57.862982",
     "status": "completed"
    },
    "tags": []
   },
   "source": [
    "## 6\\. Conclusão"
   ]
  },
  {
   "cell_type": "markdown",
   "id": "44f95752",
   "metadata": {
    "id": "UUgtCkSU5f0j",
    "papermill": {
     "duration": 0.018704,
     "end_time": "2022-12-01T11:32:57.919484",
     "exception": false,
     "start_time": "2022-12-01T11:32:57.900780",
     "status": "completed"
    },
    "tags": []
   },
   "source": [
    "Podemos ver que a Loggi atua em boa parte do Distrito Federal com hubs bem posicionados, notamos também que grande parte das entregas estão concentradas entre o centro e sul, onde possivelmente há uma  correlação entre o socioeconômico da região. Contra partida a região norte aparenta ser maior geograficamente e com muita dispersão nas entregas, podendo gerar  custos maiores e depreciação dos veículos. Nos gráficos acima chegamos a conclusão que seria interessante uma possível realocação de capacidade de veículos para regiões com maior tráfego, assim os aproveitando melhor."
   ]
  }
 ],
 "metadata": {
  "kernelspec": {
   "display_name": "Python 3",
   "language": "python",
   "name": "python3"
  },
  "language_info": {
   "codemirror_mode": {
    "name": "ipython",
    "version": 3
   },
   "file_extension": ".py",
   "mimetype": "text/x-python",
   "name": "python",
   "nbconvert_exporter": "python",
   "pygments_lexer": "ipython3",
   "version": "3.7.12"
  },
  "papermill": {
   "default_parameters": {},
   "duration": 152.206915,
   "end_time": "2022-12-01T11:32:59.463983",
   "environment_variables": {},
   "exception": null,
   "input_path": "__notebook__.ipynb",
   "output_path": "__notebook__.ipynb",
   "parameters": {},
   "start_time": "2022-12-01T11:30:27.257068",
   "version": "2.3.4"
  }
 },
 "nbformat": 4,
 "nbformat_minor": 5
}
